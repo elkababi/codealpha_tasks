{
  "cells": [
    {
      "cell_type": "code",
      "execution_count": 1,
      "metadata": {
        "colab": {
          "base_uri": "https://localhost:8080/"
        },
        "id": "3tRkE2PzKiyb",
        "outputId": "4b119893-f80c-40e9-9af5-a99a019a9ca4"
      },
      "outputs": [
        {
          "output_type": "stream",
          "name": "stdout",
          "text": [
            "Dataset URL: https://www.kaggle.com/datasets/uldisvalainis/audio-emotions\n",
            "License(s): unknown\n",
            "Downloading audio-emotions.zip to /content\n",
            " 99% 1.11G/1.12G [00:19<00:00, 116MB/s]\n",
            "100% 1.12G/1.12G [00:19<00:00, 62.8MB/s]\n"
          ]
        }
      ],
      "source": [
        "!kaggle datasets download -d uldisvalainis/audio-emotions"
      ]
    },
    {
      "cell_type": "code",
      "execution_count": 2,
      "metadata": {
        "id": "_h9yceQGKzVz"
      },
      "outputs": [],
      "source": [
        "import zipfile\n",
        "zip_ref = zipfile.ZipFile('/content/audio-emotions.zip', 'r')\n",
        "zip_ref.extractall('/content')\n",
        "zip_ref.close()"
      ]
    },
    {
      "cell_type": "markdown",
      "metadata": {
        "id": "48dv2a9tK5bd"
      },
      "source": [
        "# **1: Import Libraries**"
      ]
    },
    {
      "cell_type": "code",
      "execution_count": 3,
      "metadata": {
        "id": "HEKdS0QfK7Ma"
      },
      "outputs": [],
      "source": [
        "import os\n",
        "import librosa\n",
        "import numpy as np\n",
        "import pandas as pd\n",
        "from sklearn.model_selection import train_test_split\n",
        "from sklearn.preprocessing import LabelEncoder\n",
        "import tensorflow as tf\n",
        "from tensorflow.keras.models import Sequential\n",
        "from tensorflow.keras.layers import Dense, Conv2D, Flatten, Dropout, Reshape, BatchNormalization\n"
      ]
    },
    {
      "cell_type": "markdown",
      "metadata": {
        "id": "s6TdZHtMLAmQ"
      },
      "source": [
        "# **2: Define Function to Load Audio Files and Extract Features**"
      ]
    },
    {
      "cell_type": "code",
      "execution_count": 4,
      "metadata": {
        "id": "bPZMA5sOLEX6"
      },
      "outputs": [],
      "source": [
        "# Function to load audio files and extract features\n",
        "def load_audio_files(data_path):\n",
        "    features = []\n",
        "    labels = []\n",
        "    for emotion in os.listdir(data_path):\n",
        "        emotion_folder = os.path.join(data_path, emotion)\n",
        "        if os.path.isdir(emotion_folder):\n",
        "            for file in os.listdir(emotion_folder):\n",
        "                if file.endswith('.wav'):\n",
        "                    file_path = os.path.join(emotion_folder, file)\n",
        "                    y, sr = librosa.load(file_path, sr=None)\n",
        "                    mfccs = librosa.feature.mfcc(y=y, sr=sr, n_mfcc=13)\n",
        "                    mfccs = np.mean(mfccs.T, axis=0)\n",
        "                    features.append(mfccs)\n",
        "                    labels.append(emotion)\n",
        "    return np.array(features), np.array(labels)\n"
      ]
    },
    {
      "cell_type": "markdown",
      "metadata": {
        "id": "y5qY2yWjLI-c"
      },
      "source": [
        "# **3: Load Data**"
      ]
    },
    {
      "cell_type": "code",
      "execution_count": 5,
      "metadata": {
        "id": "g5GCB3bNLLh6"
      },
      "outputs": [],
      "source": [
        "# Paths and parameters\n",
        "data_path = '/content/Emotions'  # Update with your dataset path\n",
        "\n",
        "# Load data\n",
        "X, y = load_audio_files(data_path)\n"
      ]
    },
    {
      "cell_type": "markdown",
      "metadata": {
        "id": "T_Wt1wgLLSQa"
      },
      "source": [
        "# **4: Encode Labels**"
      ]
    },
    {
      "cell_type": "code",
      "execution_count": 6,
      "metadata": {
        "id": "7W_huSVELWKY"
      },
      "outputs": [],
      "source": [
        "# Encode labels\n",
        "le = LabelEncoder()\n",
        "y_encoded = le.fit_transform(y)\n"
      ]
    },
    {
      "cell_type": "markdown",
      "metadata": {
        "id": "EwMum8T4LYKB"
      },
      "source": [
        "# **5: Split Data**"
      ]
    },
    {
      "cell_type": "code",
      "execution_count": 7,
      "metadata": {
        "id": "DaKsGYcOLwFI"
      },
      "outputs": [],
      "source": [
        "# Split data\n",
        "X_train, X_test, y_train, y_test = train_test_split(X, y_encoded, test_size=0.2, random_state=42)\n"
      ]
    },
    {
      "cell_type": "markdown",
      "metadata": {
        "id": "CZWWzrxWL5-5"
      },
      "source": [
        "# **6: Reshape Data for CNN Input**"
      ]
    },
    {
      "cell_type": "code",
      "execution_count": 8,
      "metadata": {
        "id": "Uaz2SDbeL5rb"
      },
      "outputs": [],
      "source": [
        "# Reshape data for CNN input\n",
        "X_train = X_train[..., np.newaxis]\n",
        "X_test = X_test[..., np.newaxis]\n"
      ]
    },
    {
      "cell_type": "markdown",
      "metadata": {
        "id": "c9hlBRHDMD-d"
      },
      "source": [
        "# **7: Build Model**"
      ]
    },
    {
      "cell_type": "code",
      "execution_count": 9,
      "metadata": {
        "id": "zgwdj05xMHZ1",
        "colab": {
          "base_uri": "https://localhost:8080/"
        },
        "outputId": "a2354035-2886-4607-87c2-6b841eb0d538"
      },
      "outputs": [
        {
          "output_type": "stream",
          "name": "stderr",
          "text": [
            "/usr/local/lib/python3.10/dist-packages/keras/src/layers/reshaping/reshape.py:39: UserWarning: Do not pass an `input_shape`/`input_dim` argument to a layer. When using Sequential models, prefer using an `Input(shape)` object as the first layer in the model instead.\n",
            "  super().__init__(**kwargs)\n"
          ]
        }
      ],
      "source": [
        "# Define the model\n",
        "model = Sequential([\n",
        "    Reshape((13, 1, 1), input_shape=(13, 1)),\n",
        "    Conv2D(32, (3, 1), activation='relu'),\n",
        "    BatchNormalization(),\n",
        "    Dropout(0.3),\n",
        "    Conv2D(64, (3, 1), activation='relu'),\n",
        "    BatchNormalization(),\n",
        "    Dropout(0.3),\n",
        "    Flatten(),\n",
        "    Dense(128, activation='relu'),\n",
        "    Dropout(0.3),\n",
        "    Dense(len(le.classes_), activation='softmax')\n",
        "])\n",
        "\n",
        "\n",
        "\n"
      ]
    },
    {
      "cell_type": "markdown",
      "metadata": {
        "id": "mnnCmBmDML4q"
      },
      "source": [
        "# **8: Compile Model**"
      ]
    },
    {
      "cell_type": "code",
      "execution_count": 11,
      "metadata": {
        "id": "rp6aRefzShYb"
      },
      "outputs": [],
      "source": [
        "# Compile model\n",
        "model.compile(optimizer=tf.keras.optimizers.Adam(learning_rate=0.001),\n",
        "              loss='sparse_categorical_crossentropy',\n",
        "              metrics=['accuracy'])\n"
      ]
    },
    {
      "cell_type": "code",
      "execution_count": 12,
      "metadata": {
        "id": "h1HsxIM0SxsK"
      },
      "outputs": [],
      "source": [
        "# Define callbacks\n",
        "callbacks = [\n",
        "    tf.keras.callbacks.EarlyStopping(patience=10, restore_best_weights=True),\n",
        "    tf.keras.callbacks.ReduceLROnPlateau(monitor='val_loss', factor=0.2, patience=5, min_lr=0.0001)\n",
        "]\n"
      ]
    },
    {
      "cell_type": "markdown",
      "metadata": {
        "id": "VUVDEGukMQ9r"
      },
      "source": [
        "# **9: Train Model**"
      ]
    },
    {
      "cell_type": "code",
      "execution_count": 13,
      "metadata": {
        "colab": {
          "base_uri": "https://localhost:8080/"
        },
        "id": "8-g_5pIrMcsT",
        "outputId": "09fa9e58-a557-45dc-87d5-c638d70da9a2"
      },
      "outputs": [
        {
          "output_type": "stream",
          "name": "stdout",
          "text": [
            "Epoch 1/100\n",
            "\u001b[1m320/320\u001b[0m \u001b[32m━━━━━━━━━━━━━━━━━━━━\u001b[0m\u001b[37m\u001b[0m \u001b[1m14s\u001b[0m 21ms/step - accuracy: 0.2341 - loss: 1.9713 - val_accuracy: 0.3598 - val_loss: 1.6035 - learning_rate: 0.0010\n",
            "Epoch 2/100\n",
            "\u001b[1m320/320\u001b[0m \u001b[32m━━━━━━━━━━━━━━━━━━━━\u001b[0m\u001b[37m\u001b[0m \u001b[1m1s\u001b[0m 4ms/step - accuracy: 0.3324 - loss: 1.6266 - val_accuracy: 0.4445 - val_loss: 1.4017 - learning_rate: 0.0010\n",
            "Epoch 3/100\n",
            "\u001b[1m320/320\u001b[0m \u001b[32m━━━━━━━━━━━━━━━━━━━━\u001b[0m\u001b[37m\u001b[0m \u001b[1m1s\u001b[0m 2ms/step - accuracy: 0.3893 - loss: 1.4928 - val_accuracy: 0.4602 - val_loss: 1.3630 - learning_rate: 0.0010\n",
            "Epoch 4/100\n",
            "\u001b[1m320/320\u001b[0m \u001b[32m━━━━━━━━━━━━━━━━━━━━\u001b[0m\u001b[37m\u001b[0m \u001b[1m1s\u001b[0m 2ms/step - accuracy: 0.4096 - loss: 1.4401 - val_accuracy: 0.4816 - val_loss: 1.2974 - learning_rate: 0.0010\n",
            "Epoch 5/100\n",
            "\u001b[1m320/320\u001b[0m \u001b[32m━━━━━━━━━━━━━━━━━━━━\u001b[0m\u001b[37m\u001b[0m \u001b[1m1s\u001b[0m 2ms/step - accuracy: 0.4417 - loss: 1.3855 - val_accuracy: 0.4922 - val_loss: 1.2632 - learning_rate: 0.0010\n",
            "Epoch 6/100\n",
            "\u001b[1m320/320\u001b[0m \u001b[32m━━━━━━━━━━━━━━━━━━━━\u001b[0m\u001b[37m\u001b[0m \u001b[1m1s\u001b[0m 3ms/step - accuracy: 0.4435 - loss: 1.3830 - val_accuracy: 0.4961 - val_loss: 1.2359 - learning_rate: 0.0010\n",
            "Epoch 7/100\n",
            "\u001b[1m320/320\u001b[0m \u001b[32m━━━━━━━━━━━━━━━━━━━━\u001b[0m\u001b[37m\u001b[0m \u001b[1m1s\u001b[0m 2ms/step - accuracy: 0.4519 - loss: 1.3431 - val_accuracy: 0.5102 - val_loss: 1.2321 - learning_rate: 0.0010\n",
            "Epoch 8/100\n",
            "\u001b[1m320/320\u001b[0m \u001b[32m━━━━━━━━━━━━━━━━━━━━\u001b[0m\u001b[37m\u001b[0m \u001b[1m1s\u001b[0m 2ms/step - accuracy: 0.4584 - loss: 1.3231 - val_accuracy: 0.4871 - val_loss: 1.2542 - learning_rate: 0.0010\n",
            "Epoch 9/100\n",
            "\u001b[1m320/320\u001b[0m \u001b[32m━━━━━━━━━━━━━━━━━━━━\u001b[0m\u001b[37m\u001b[0m \u001b[1m1s\u001b[0m 3ms/step - accuracy: 0.4615 - loss: 1.3238 - val_accuracy: 0.5195 - val_loss: 1.2303 - learning_rate: 0.0010\n",
            "Epoch 10/100\n",
            "\u001b[1m320/320\u001b[0m \u001b[32m━━━━━━━━━━━━━━━━━━━━\u001b[0m\u001b[37m\u001b[0m \u001b[1m1s\u001b[0m 2ms/step - accuracy: 0.4641 - loss: 1.3166 - val_accuracy: 0.5094 - val_loss: 1.1986 - learning_rate: 0.0010\n",
            "Epoch 11/100\n",
            "\u001b[1m320/320\u001b[0m \u001b[32m━━━━━━━━━━━━━━━━━━━━\u001b[0m\u001b[37m\u001b[0m \u001b[1m1s\u001b[0m 2ms/step - accuracy: 0.4864 - loss: 1.2794 - val_accuracy: 0.5262 - val_loss: 1.1946 - learning_rate: 0.0010\n",
            "Epoch 12/100\n",
            "\u001b[1m320/320\u001b[0m \u001b[32m━━━━━━━━━━━━━━━━━━━━\u001b[0m\u001b[37m\u001b[0m \u001b[1m1s\u001b[0m 3ms/step - accuracy: 0.4691 - loss: 1.3049 - val_accuracy: 0.5148 - val_loss: 1.1888 - learning_rate: 0.0010\n",
            "Epoch 13/100\n",
            "\u001b[1m320/320\u001b[0m \u001b[32m━━━━━━━━━━━━━━━━━━━━\u001b[0m\u001b[37m\u001b[0m \u001b[1m1s\u001b[0m 4ms/step - accuracy: 0.4908 - loss: 1.2704 - val_accuracy: 0.5250 - val_loss: 1.1807 - learning_rate: 0.0010\n",
            "Epoch 14/100\n",
            "\u001b[1m320/320\u001b[0m \u001b[32m━━━━━━━━━━━━━━━━━━━━\u001b[0m\u001b[37m\u001b[0m \u001b[1m1s\u001b[0m 3ms/step - accuracy: 0.4783 - loss: 1.2657 - val_accuracy: 0.5285 - val_loss: 1.1669 - learning_rate: 0.0010\n",
            "Epoch 15/100\n",
            "\u001b[1m320/320\u001b[0m \u001b[32m━━━━━━━━━━━━━━━━━━━━\u001b[0m\u001b[37m\u001b[0m \u001b[1m1s\u001b[0m 2ms/step - accuracy: 0.4922 - loss: 1.2499 - val_accuracy: 0.5305 - val_loss: 1.1773 - learning_rate: 0.0010\n",
            "Epoch 16/100\n",
            "\u001b[1m320/320\u001b[0m \u001b[32m━━━━━━━━━━━━━━━━━━━━\u001b[0m\u001b[37m\u001b[0m \u001b[1m1s\u001b[0m 2ms/step - accuracy: 0.4939 - loss: 1.2495 - val_accuracy: 0.5207 - val_loss: 1.1756 - learning_rate: 0.0010\n",
            "Epoch 17/100\n",
            "\u001b[1m320/320\u001b[0m \u001b[32m━━━━━━━━━━━━━━━━━━━━\u001b[0m\u001b[37m\u001b[0m \u001b[1m1s\u001b[0m 2ms/step - accuracy: 0.4970 - loss: 1.2479 - val_accuracy: 0.5367 - val_loss: 1.1656 - learning_rate: 0.0010\n",
            "Epoch 18/100\n",
            "\u001b[1m320/320\u001b[0m \u001b[32m━━━━━━━━━━━━━━━━━━━━\u001b[0m\u001b[37m\u001b[0m \u001b[1m1s\u001b[0m 2ms/step - accuracy: 0.4963 - loss: 1.2450 - val_accuracy: 0.5371 - val_loss: 1.1526 - learning_rate: 0.0010\n",
            "Epoch 19/100\n",
            "\u001b[1m320/320\u001b[0m \u001b[32m━━━━━━━━━━━━━━━━━━━━\u001b[0m\u001b[37m\u001b[0m \u001b[1m1s\u001b[0m 2ms/step - accuracy: 0.4990 - loss: 1.2400 - val_accuracy: 0.5328 - val_loss: 1.1644 - learning_rate: 0.0010\n",
            "Epoch 20/100\n",
            "\u001b[1m320/320\u001b[0m \u001b[32m━━━━━━━━━━━━━━━━━━━━\u001b[0m\u001b[37m\u001b[0m \u001b[1m1s\u001b[0m 2ms/step - accuracy: 0.5063 - loss: 1.2357 - val_accuracy: 0.5273 - val_loss: 1.1585 - learning_rate: 0.0010\n",
            "Epoch 21/100\n",
            "\u001b[1m320/320\u001b[0m \u001b[32m━━━━━━━━━━━━━━━━━━━━\u001b[0m\u001b[37m\u001b[0m \u001b[1m1s\u001b[0m 3ms/step - accuracy: 0.4999 - loss: 1.2226 - val_accuracy: 0.5391 - val_loss: 1.1454 - learning_rate: 0.0010\n",
            "Epoch 22/100\n",
            "\u001b[1m320/320\u001b[0m \u001b[32m━━━━━━━━━━━━━━━━━━━━\u001b[0m\u001b[37m\u001b[0m \u001b[1m1s\u001b[0m 2ms/step - accuracy: 0.5128 - loss: 1.1988 - val_accuracy: 0.5352 - val_loss: 1.1610 - learning_rate: 0.0010\n",
            "Epoch 23/100\n",
            "\u001b[1m320/320\u001b[0m \u001b[32m━━━━━━━━━━━━━━━━━━━━\u001b[0m\u001b[37m\u001b[0m \u001b[1m1s\u001b[0m 2ms/step - accuracy: 0.5111 - loss: 1.2043 - val_accuracy: 0.5305 - val_loss: 1.1605 - learning_rate: 0.0010\n",
            "Epoch 24/100\n",
            "\u001b[1m320/320\u001b[0m \u001b[32m━━━━━━━━━━━━━━━━━━━━\u001b[0m\u001b[37m\u001b[0m \u001b[1m1s\u001b[0m 3ms/step - accuracy: 0.5040 - loss: 1.2165 - val_accuracy: 0.5332 - val_loss: 1.1504 - learning_rate: 0.0010\n",
            "Epoch 25/100\n",
            "\u001b[1m320/320\u001b[0m \u001b[32m━━━━━━━━━━━━━━━━━━━━\u001b[0m\u001b[37m\u001b[0m \u001b[1m1s\u001b[0m 4ms/step - accuracy: 0.5044 - loss: 1.2164 - val_accuracy: 0.5441 - val_loss: 1.1335 - learning_rate: 0.0010\n",
            "Epoch 26/100\n",
            "\u001b[1m320/320\u001b[0m \u001b[32m━━━━━━━━━━━━━━━━━━━━\u001b[0m\u001b[37m\u001b[0m \u001b[1m1s\u001b[0m 3ms/step - accuracy: 0.5170 - loss: 1.1991 - val_accuracy: 0.5281 - val_loss: 1.1470 - learning_rate: 0.0010\n",
            "Epoch 27/100\n",
            "\u001b[1m320/320\u001b[0m \u001b[32m━━━━━━━━━━━━━━━━━━━━\u001b[0m\u001b[37m\u001b[0m \u001b[1m1s\u001b[0m 2ms/step - accuracy: 0.5142 - loss: 1.1983 - val_accuracy: 0.5410 - val_loss: 1.1403 - learning_rate: 0.0010\n",
            "Epoch 28/100\n",
            "\u001b[1m320/320\u001b[0m \u001b[32m━━━━━━━━━━━━━━━━━━━━\u001b[0m\u001b[37m\u001b[0m \u001b[1m1s\u001b[0m 2ms/step - accuracy: 0.5193 - loss: 1.1980 - val_accuracy: 0.5363 - val_loss: 1.1355 - learning_rate: 0.0010\n",
            "Epoch 29/100\n",
            "\u001b[1m320/320\u001b[0m \u001b[32m━━━━━━━━━━━━━━━━━━━━\u001b[0m\u001b[37m\u001b[0m \u001b[1m1s\u001b[0m 2ms/step - accuracy: 0.5130 - loss: 1.1900 - val_accuracy: 0.5480 - val_loss: 1.1387 - learning_rate: 0.0010\n",
            "Epoch 30/100\n",
            "\u001b[1m320/320\u001b[0m \u001b[32m━━━━━━━━━━━━━━━━━━━━\u001b[0m\u001b[37m\u001b[0m \u001b[1m1s\u001b[0m 2ms/step - accuracy: 0.5127 - loss: 1.1948 - val_accuracy: 0.5410 - val_loss: 1.1354 - learning_rate: 0.0010\n",
            "Epoch 31/100\n",
            "\u001b[1m320/320\u001b[0m \u001b[32m━━━━━━━━━━━━━━━━━━━━\u001b[0m\u001b[37m\u001b[0m \u001b[1m1s\u001b[0m 2ms/step - accuracy: 0.5334 - loss: 1.1577 - val_accuracy: 0.5609 - val_loss: 1.1155 - learning_rate: 2.0000e-04\n",
            "Epoch 32/100\n",
            "\u001b[1m320/320\u001b[0m \u001b[32m━━━━━━━━━━━━━━━━━━━━\u001b[0m\u001b[37m\u001b[0m \u001b[1m1s\u001b[0m 2ms/step - accuracy: 0.5324 - loss: 1.1644 - val_accuracy: 0.5582 - val_loss: 1.1130 - learning_rate: 2.0000e-04\n",
            "Epoch 33/100\n",
            "\u001b[1m320/320\u001b[0m \u001b[32m━━━━━━━━━━━━━━━━━━━━\u001b[0m\u001b[37m\u001b[0m \u001b[1m1s\u001b[0m 2ms/step - accuracy: 0.5282 - loss: 1.1620 - val_accuracy: 0.5586 - val_loss: 1.1153 - learning_rate: 2.0000e-04\n",
            "Epoch 34/100\n",
            "\u001b[1m320/320\u001b[0m \u001b[32m━━━━━━━━━━━━━━━━━━━━\u001b[0m\u001b[37m\u001b[0m \u001b[1m1s\u001b[0m 2ms/step - accuracy: 0.5259 - loss: 1.1620 - val_accuracy: 0.5527 - val_loss: 1.1095 - learning_rate: 2.0000e-04\n",
            "Epoch 35/100\n",
            "\u001b[1m320/320\u001b[0m \u001b[32m━━━━━━━━━━━━━━━━━━━━\u001b[0m\u001b[37m\u001b[0m \u001b[1m1s\u001b[0m 2ms/step - accuracy: 0.5128 - loss: 1.1758 - val_accuracy: 0.5559 - val_loss: 1.1081 - learning_rate: 2.0000e-04\n",
            "Epoch 36/100\n",
            "\u001b[1m320/320\u001b[0m \u001b[32m━━━━━━━━━━━━━━━━━━━━\u001b[0m\u001b[37m\u001b[0m \u001b[1m1s\u001b[0m 2ms/step - accuracy: 0.5343 - loss: 1.1456 - val_accuracy: 0.5555 - val_loss: 1.1071 - learning_rate: 2.0000e-04\n",
            "Epoch 37/100\n",
            "\u001b[1m320/320\u001b[0m \u001b[32m━━━━━━━━━━━━━━━━━━━━\u001b[0m\u001b[37m\u001b[0m \u001b[1m1s\u001b[0m 3ms/step - accuracy: 0.5409 - loss: 1.1517 - val_accuracy: 0.5602 - val_loss: 1.1065 - learning_rate: 2.0000e-04\n",
            "Epoch 38/100\n",
            "\u001b[1m320/320\u001b[0m \u001b[32m━━━━━━━━━━━━━━━━━━━━\u001b[0m\u001b[37m\u001b[0m \u001b[1m1s\u001b[0m 4ms/step - accuracy: 0.5372 - loss: 1.1425 - val_accuracy: 0.5594 - val_loss: 1.1005 - learning_rate: 2.0000e-04\n",
            "Epoch 39/100\n",
            "\u001b[1m320/320\u001b[0m \u001b[32m━━━━━━━━━━━━━━━━━━━━\u001b[0m\u001b[37m\u001b[0m \u001b[1m1s\u001b[0m 3ms/step - accuracy: 0.5405 - loss: 1.1351 - val_accuracy: 0.5598 - val_loss: 1.1001 - learning_rate: 2.0000e-04\n",
            "Epoch 40/100\n",
            "\u001b[1m320/320\u001b[0m \u001b[32m━━━━━━━━━━━━━━━━━━━━\u001b[0m\u001b[37m\u001b[0m \u001b[1m1s\u001b[0m 2ms/step - accuracy: 0.5455 - loss: 1.1386 - val_accuracy: 0.5570 - val_loss: 1.1023 - learning_rate: 2.0000e-04\n",
            "Epoch 41/100\n",
            "\u001b[1m320/320\u001b[0m \u001b[32m━━━━━━━━━━━━━━━━━━━━\u001b[0m\u001b[37m\u001b[0m \u001b[1m1s\u001b[0m 2ms/step - accuracy: 0.5328 - loss: 1.1469 - val_accuracy: 0.5566 - val_loss: 1.1003 - learning_rate: 2.0000e-04\n",
            "Epoch 42/100\n",
            "\u001b[1m320/320\u001b[0m \u001b[32m━━━━━━━━━━━━━━━━━━━━\u001b[0m\u001b[37m\u001b[0m \u001b[1m1s\u001b[0m 2ms/step - accuracy: 0.5367 - loss: 1.1511 - val_accuracy: 0.5617 - val_loss: 1.0986 - learning_rate: 2.0000e-04\n",
            "Epoch 43/100\n",
            "\u001b[1m320/320\u001b[0m \u001b[32m━━━━━━━━━━━━━━━━━━━━\u001b[0m\u001b[37m\u001b[0m \u001b[1m1s\u001b[0m 3ms/step - accuracy: 0.5336 - loss: 1.1462 - val_accuracy: 0.5641 - val_loss: 1.0990 - learning_rate: 2.0000e-04\n",
            "Epoch 44/100\n",
            "\u001b[1m320/320\u001b[0m \u001b[32m━━━━━━━━━━━━━━━━━━━━\u001b[0m\u001b[37m\u001b[0m \u001b[1m1s\u001b[0m 2ms/step - accuracy: 0.5514 - loss: 1.1288 - val_accuracy: 0.5578 - val_loss: 1.1015 - learning_rate: 2.0000e-04\n",
            "Epoch 45/100\n",
            "\u001b[1m320/320\u001b[0m \u001b[32m━━━━━━━━━━━━━━━━━━━━\u001b[0m\u001b[37m\u001b[0m \u001b[1m1s\u001b[0m 2ms/step - accuracy: 0.5403 - loss: 1.1418 - val_accuracy: 0.5594 - val_loss: 1.0993 - learning_rate: 2.0000e-04\n",
            "Epoch 46/100\n",
            "\u001b[1m320/320\u001b[0m \u001b[32m━━━━━━━━━━━━━━━━━━━━\u001b[0m\u001b[37m\u001b[0m \u001b[1m1s\u001b[0m 3ms/step - accuracy: 0.5476 - loss: 1.1302 - val_accuracy: 0.5586 - val_loss: 1.1023 - learning_rate: 2.0000e-04\n",
            "Epoch 47/100\n",
            "\u001b[1m320/320\u001b[0m \u001b[32m━━━━━━━━━━━━━━━━━━━━\u001b[0m\u001b[37m\u001b[0m \u001b[1m1s\u001b[0m 2ms/step - accuracy: 0.5296 - loss: 1.1472 - val_accuracy: 0.5590 - val_loss: 1.0964 - learning_rate: 2.0000e-04\n",
            "Epoch 48/100\n",
            "\u001b[1m320/320\u001b[0m \u001b[32m━━━━━━━━━━━━━━━━━━━━\u001b[0m\u001b[37m\u001b[0m \u001b[1m1s\u001b[0m 3ms/step - accuracy: 0.5486 - loss: 1.1376 - val_accuracy: 0.5641 - val_loss: 1.0938 - learning_rate: 2.0000e-04\n",
            "Epoch 49/100\n",
            "\u001b[1m320/320\u001b[0m \u001b[32m━━━━━━━━━━━━━━━━━━━━\u001b[0m\u001b[37m\u001b[0m \u001b[1m1s\u001b[0m 3ms/step - accuracy: 0.5420 - loss: 1.1373 - val_accuracy: 0.5609 - val_loss: 1.0955 - learning_rate: 2.0000e-04\n",
            "Epoch 50/100\n",
            "\u001b[1m320/320\u001b[0m \u001b[32m━━━━━━━━━━━━━━━━━━━━\u001b[0m\u001b[37m\u001b[0m \u001b[1m1s\u001b[0m 3ms/step - accuracy: 0.5471 - loss: 1.1312 - val_accuracy: 0.5551 - val_loss: 1.0976 - learning_rate: 2.0000e-04\n",
            "Epoch 51/100\n",
            "\u001b[1m320/320\u001b[0m \u001b[32m━━━━━━━━━━━━━━━━━━━━\u001b[0m\u001b[37m\u001b[0m \u001b[1m1s\u001b[0m 3ms/step - accuracy: 0.5429 - loss: 1.1312 - val_accuracy: 0.5598 - val_loss: 1.0933 - learning_rate: 2.0000e-04\n",
            "Epoch 52/100\n",
            "\u001b[1m320/320\u001b[0m \u001b[32m━━━━━━━━━━━━━━━━━━━━\u001b[0m\u001b[37m\u001b[0m \u001b[1m1s\u001b[0m 3ms/step - accuracy: 0.5405 - loss: 1.1312 - val_accuracy: 0.5559 - val_loss: 1.0913 - learning_rate: 2.0000e-04\n",
            "Epoch 53/100\n",
            "\u001b[1m320/320\u001b[0m \u001b[32m━━━━━━━━━━━━━━━━━━━━\u001b[0m\u001b[37m\u001b[0m \u001b[1m1s\u001b[0m 2ms/step - accuracy: 0.5444 - loss: 1.1239 - val_accuracy: 0.5629 - val_loss: 1.0930 - learning_rate: 2.0000e-04\n",
            "Epoch 54/100\n",
            "\u001b[1m320/320\u001b[0m \u001b[32m━━━━━━━━━━━━━━━━━━━━\u001b[0m\u001b[37m\u001b[0m \u001b[1m1s\u001b[0m 2ms/step - accuracy: 0.5508 - loss: 1.1290 - val_accuracy: 0.5613 - val_loss: 1.0924 - learning_rate: 2.0000e-04\n",
            "Epoch 55/100\n",
            "\u001b[1m320/320\u001b[0m \u001b[32m━━━━━━━━━━━━━━━━━━━━\u001b[0m\u001b[37m\u001b[0m \u001b[1m1s\u001b[0m 2ms/step - accuracy: 0.5402 - loss: 1.1355 - val_accuracy: 0.5625 - val_loss: 1.0932 - learning_rate: 2.0000e-04\n",
            "Epoch 56/100\n",
            "\u001b[1m320/320\u001b[0m \u001b[32m━━━━━━━━━━━━━━━━━━━━\u001b[0m\u001b[37m\u001b[0m \u001b[1m1s\u001b[0m 2ms/step - accuracy: 0.5406 - loss: 1.1301 - val_accuracy: 0.5629 - val_loss: 1.0947 - learning_rate: 2.0000e-04\n",
            "Epoch 57/100\n",
            "\u001b[1m320/320\u001b[0m \u001b[32m━━━━━━━━━━━━━━━━━━━━\u001b[0m\u001b[37m\u001b[0m \u001b[1m1s\u001b[0m 2ms/step - accuracy: 0.5456 - loss: 1.1284 - val_accuracy: 0.5645 - val_loss: 1.0917 - learning_rate: 2.0000e-04\n",
            "Epoch 58/100\n",
            "\u001b[1m320/320\u001b[0m \u001b[32m━━━━━━━━━━━━━━━━━━━━\u001b[0m\u001b[37m\u001b[0m \u001b[1m1s\u001b[0m 2ms/step - accuracy: 0.5422 - loss: 1.1303 - val_accuracy: 0.5672 - val_loss: 1.0908 - learning_rate: 1.0000e-04\n",
            "Epoch 59/100\n",
            "\u001b[1m320/320\u001b[0m \u001b[32m━━━━━━━━━━━━━━━━━━━━\u001b[0m\u001b[37m\u001b[0m \u001b[1m1s\u001b[0m 2ms/step - accuracy: 0.5390 - loss: 1.1335 - val_accuracy: 0.5641 - val_loss: 1.0910 - learning_rate: 1.0000e-04\n",
            "Epoch 60/100\n",
            "\u001b[1m320/320\u001b[0m \u001b[32m━━━━━━━━━━━━━━━━━━━━\u001b[0m\u001b[37m\u001b[0m \u001b[1m1s\u001b[0m 2ms/step - accuracy: 0.5385 - loss: 1.1222 - val_accuracy: 0.5645 - val_loss: 1.0897 - learning_rate: 1.0000e-04\n",
            "Epoch 61/100\n",
            "\u001b[1m320/320\u001b[0m \u001b[32m━━━━━━━━━━━━━━━━━━━━\u001b[0m\u001b[37m\u001b[0m \u001b[1m2s\u001b[0m 4ms/step - accuracy: 0.5488 - loss: 1.1134 - val_accuracy: 0.5645 - val_loss: 1.0898 - learning_rate: 1.0000e-04\n",
            "Epoch 62/100\n",
            "\u001b[1m320/320\u001b[0m \u001b[32m━━━━━━━━━━━━━━━━━━━━\u001b[0m\u001b[37m\u001b[0m \u001b[1m1s\u001b[0m 4ms/step - accuracy: 0.5526 - loss: 1.1194 - val_accuracy: 0.5625 - val_loss: 1.0893 - learning_rate: 1.0000e-04\n",
            "Epoch 63/100\n",
            "\u001b[1m320/320\u001b[0m \u001b[32m━━━━━━━━━━━━━━━━━━━━\u001b[0m\u001b[37m\u001b[0m \u001b[1m1s\u001b[0m 3ms/step - accuracy: 0.5510 - loss: 1.1104 - val_accuracy: 0.5668 - val_loss: 1.0895 - learning_rate: 1.0000e-04\n",
            "Epoch 64/100\n",
            "\u001b[1m320/320\u001b[0m \u001b[32m━━━━━━━━━━━━━━━━━━━━\u001b[0m\u001b[37m\u001b[0m \u001b[1m1s\u001b[0m 2ms/step - accuracy: 0.5486 - loss: 1.1143 - val_accuracy: 0.5621 - val_loss: 1.0918 - learning_rate: 1.0000e-04\n",
            "Epoch 65/100\n",
            "\u001b[1m320/320\u001b[0m \u001b[32m━━━━━━━━━━━━━━━━━━━━\u001b[0m\u001b[37m\u001b[0m \u001b[1m1s\u001b[0m 3ms/step - accuracy: 0.5447 - loss: 1.1232 - val_accuracy: 0.5637 - val_loss: 1.0910 - learning_rate: 1.0000e-04\n",
            "Epoch 66/100\n",
            "\u001b[1m320/320\u001b[0m \u001b[32m━━━━━━━━━━━━━━━━━━━━\u001b[0m\u001b[37m\u001b[0m \u001b[1m1s\u001b[0m 2ms/step - accuracy: 0.5468 - loss: 1.1244 - val_accuracy: 0.5672 - val_loss: 1.0899 - learning_rate: 1.0000e-04\n",
            "Epoch 67/100\n",
            "\u001b[1m320/320\u001b[0m \u001b[32m━━━━━━━━━━━━━━━━━━━━\u001b[0m\u001b[37m\u001b[0m \u001b[1m1s\u001b[0m 2ms/step - accuracy: 0.5383 - loss: 1.1286 - val_accuracy: 0.5676 - val_loss: 1.0896 - learning_rate: 1.0000e-04\n",
            "Epoch 68/100\n",
            "\u001b[1m320/320\u001b[0m \u001b[32m━━━━━━━━━━━━━━━━━━━━\u001b[0m\u001b[37m\u001b[0m \u001b[1m1s\u001b[0m 2ms/step - accuracy: 0.5461 - loss: 1.1161 - val_accuracy: 0.5617 - val_loss: 1.0919 - learning_rate: 1.0000e-04\n",
            "Epoch 69/100\n",
            "\u001b[1m320/320\u001b[0m \u001b[32m━━━━━━━━━━━━━━━━━━━━\u001b[0m\u001b[37m\u001b[0m \u001b[1m1s\u001b[0m 2ms/step - accuracy: 0.5451 - loss: 1.1289 - val_accuracy: 0.5641 - val_loss: 1.0902 - learning_rate: 1.0000e-04\n",
            "Epoch 70/100\n",
            "\u001b[1m320/320\u001b[0m \u001b[32m━━━━━━━━━━━━━━━━━━━━\u001b[0m\u001b[37m\u001b[0m \u001b[1m1s\u001b[0m 2ms/step - accuracy: 0.5421 - loss: 1.1215 - val_accuracy: 0.5645 - val_loss: 1.0903 - learning_rate: 1.0000e-04\n",
            "Epoch 71/100\n",
            "\u001b[1m320/320\u001b[0m \u001b[32m━━━━━━━━━━━━━━━━━━━━\u001b[0m\u001b[37m\u001b[0m \u001b[1m1s\u001b[0m 2ms/step - accuracy: 0.5370 - loss: 1.1427 - val_accuracy: 0.5609 - val_loss: 1.0889 - learning_rate: 1.0000e-04\n",
            "Epoch 72/100\n",
            "\u001b[1m320/320\u001b[0m \u001b[32m━━━━━━━━━━━━━━━━━━━━\u001b[0m\u001b[37m\u001b[0m \u001b[1m2s\u001b[0m 3ms/step - accuracy: 0.5527 - loss: 1.1148 - val_accuracy: 0.5621 - val_loss: 1.0904 - learning_rate: 1.0000e-04\n",
            "Epoch 73/100\n",
            "\u001b[1m320/320\u001b[0m \u001b[32m━━━━━━━━━━━━━━━━━━━━\u001b[0m\u001b[37m\u001b[0m \u001b[1m1s\u001b[0m 4ms/step - accuracy: 0.5530 - loss: 1.1208 - val_accuracy: 0.5629 - val_loss: 1.0873 - learning_rate: 1.0000e-04\n",
            "Epoch 74/100\n",
            "\u001b[1m320/320\u001b[0m \u001b[32m━━━━━━━━━━━━━━━━━━━━\u001b[0m\u001b[37m\u001b[0m \u001b[1m2s\u001b[0m 2ms/step - accuracy: 0.5541 - loss: 1.1134 - val_accuracy: 0.5625 - val_loss: 1.0860 - learning_rate: 1.0000e-04\n",
            "Epoch 75/100\n",
            "\u001b[1m320/320\u001b[0m \u001b[32m━━━━━━━━━━━━━━━━━━━━\u001b[0m\u001b[37m\u001b[0m \u001b[1m1s\u001b[0m 2ms/step - accuracy: 0.5568 - loss: 1.1036 - val_accuracy: 0.5625 - val_loss: 1.0863 - learning_rate: 1.0000e-04\n",
            "Epoch 76/100\n",
            "\u001b[1m320/320\u001b[0m \u001b[32m━━━━━━━━━━━━━━━━━━━━\u001b[0m\u001b[37m\u001b[0m \u001b[1m1s\u001b[0m 2ms/step - accuracy: 0.5460 - loss: 1.1119 - val_accuracy: 0.5566 - val_loss: 1.0877 - learning_rate: 1.0000e-04\n",
            "Epoch 77/100\n",
            "\u001b[1m320/320\u001b[0m \u001b[32m━━━━━━━━━━━━━━━━━━━━\u001b[0m\u001b[37m\u001b[0m \u001b[1m1s\u001b[0m 2ms/step - accuracy: 0.5530 - loss: 1.1059 - val_accuracy: 0.5621 - val_loss: 1.0874 - learning_rate: 1.0000e-04\n",
            "Epoch 78/100\n",
            "\u001b[1m320/320\u001b[0m \u001b[32m━━━━━━━━━━━━━━━━━━━━\u001b[0m\u001b[37m\u001b[0m \u001b[1m1s\u001b[0m 2ms/step - accuracy: 0.5417 - loss: 1.1221 - val_accuracy: 0.5645 - val_loss: 1.0877 - learning_rate: 1.0000e-04\n",
            "Epoch 79/100\n",
            "\u001b[1m320/320\u001b[0m \u001b[32m━━━━━━━━━━━━━━━━━━━━\u001b[0m\u001b[37m\u001b[0m \u001b[1m1s\u001b[0m 2ms/step - accuracy: 0.5489 - loss: 1.1245 - val_accuracy: 0.5691 - val_loss: 1.0891 - learning_rate: 1.0000e-04\n",
            "Epoch 80/100\n",
            "\u001b[1m320/320\u001b[0m \u001b[32m━━━━━━━━━━━━━━━━━━━━\u001b[0m\u001b[37m\u001b[0m \u001b[1m1s\u001b[0m 2ms/step - accuracy: 0.5578 - loss: 1.1096 - val_accuracy: 0.5648 - val_loss: 1.0884 - learning_rate: 1.0000e-04\n",
            "Epoch 81/100\n",
            "\u001b[1m320/320\u001b[0m \u001b[32m━━━━━━━━━━━━━━━━━━━━\u001b[0m\u001b[37m\u001b[0m \u001b[1m1s\u001b[0m 2ms/step - accuracy: 0.5401 - loss: 1.1295 - val_accuracy: 0.5633 - val_loss: 1.0893 - learning_rate: 1.0000e-04\n",
            "Epoch 82/100\n",
            "\u001b[1m320/320\u001b[0m \u001b[32m━━━━━━━━━━━━━━━━━━━━\u001b[0m\u001b[37m\u001b[0m \u001b[1m1s\u001b[0m 3ms/step - accuracy: 0.5460 - loss: 1.1180 - val_accuracy: 0.5609 - val_loss: 1.0867 - learning_rate: 1.0000e-04\n",
            "Epoch 83/100\n",
            "\u001b[1m320/320\u001b[0m \u001b[32m━━━━━━━━━━━━━━━━━━━━\u001b[0m\u001b[37m\u001b[0m \u001b[1m1s\u001b[0m 3ms/step - accuracy: 0.5583 - loss: 1.1012 - val_accuracy: 0.5676 - val_loss: 1.0865 - learning_rate: 1.0000e-04\n",
            "Epoch 84/100\n",
            "\u001b[1m320/320\u001b[0m \u001b[32m━━━━━━━━━━━━━━━━━━━━\u001b[0m\u001b[37m\u001b[0m \u001b[1m1s\u001b[0m 4ms/step - accuracy: 0.5477 - loss: 1.1076 - val_accuracy: 0.5648 - val_loss: 1.0858 - learning_rate: 1.0000e-04\n",
            "Epoch 85/100\n",
            "\u001b[1m320/320\u001b[0m \u001b[32m━━━━━━━━━━━━━━━━━━━━\u001b[0m\u001b[37m\u001b[0m \u001b[1m2s\u001b[0m 2ms/step - accuracy: 0.5331 - loss: 1.1355 - val_accuracy: 0.5668 - val_loss: 1.0849 - learning_rate: 1.0000e-04\n",
            "Epoch 86/100\n",
            "\u001b[1m320/320\u001b[0m \u001b[32m━━━━━━━━━━━━━━━━━━━━\u001b[0m\u001b[37m\u001b[0m \u001b[1m1s\u001b[0m 2ms/step - accuracy: 0.5416 - loss: 1.1345 - val_accuracy: 0.5691 - val_loss: 1.0859 - learning_rate: 1.0000e-04\n",
            "Epoch 87/100\n",
            "\u001b[1m320/320\u001b[0m \u001b[32m━━━━━━━━━━━━━━━━━━━━\u001b[0m\u001b[37m\u001b[0m \u001b[1m1s\u001b[0m 2ms/step - accuracy: 0.5466 - loss: 1.1209 - val_accuracy: 0.5652 - val_loss: 1.0879 - learning_rate: 1.0000e-04\n",
            "Epoch 88/100\n",
            "\u001b[1m320/320\u001b[0m \u001b[32m━━━━━━━━━━━━━━━━━━━━\u001b[0m\u001b[37m\u001b[0m \u001b[1m1s\u001b[0m 2ms/step - accuracy: 0.5616 - loss: 1.1044 - val_accuracy: 0.5629 - val_loss: 1.0868 - learning_rate: 1.0000e-04\n",
            "Epoch 89/100\n",
            "\u001b[1m320/320\u001b[0m \u001b[32m━━━━━━━━━━━━━━━━━━━━\u001b[0m\u001b[37m\u001b[0m \u001b[1m1s\u001b[0m 2ms/step - accuracy: 0.5492 - loss: 1.1012 - val_accuracy: 0.5676 - val_loss: 1.0852 - learning_rate: 1.0000e-04\n",
            "Epoch 90/100\n",
            "\u001b[1m320/320\u001b[0m \u001b[32m━━━━━━━━━━━━━━━━━━━━\u001b[0m\u001b[37m\u001b[0m \u001b[1m1s\u001b[0m 2ms/step - accuracy: 0.5451 - loss: 1.1248 - val_accuracy: 0.5656 - val_loss: 1.0866 - learning_rate: 1.0000e-04\n",
            "Epoch 91/100\n",
            "\u001b[1m320/320\u001b[0m \u001b[32m━━━━━━━━━━━━━━━━━━━━\u001b[0m\u001b[37m\u001b[0m \u001b[1m1s\u001b[0m 2ms/step - accuracy: 0.5380 - loss: 1.1354 - val_accuracy: 0.5625 - val_loss: 1.0865 - learning_rate: 1.0000e-04\n",
            "Epoch 92/100\n",
            "\u001b[1m320/320\u001b[0m \u001b[32m━━━━━━━━━━━━━━━━━━━━\u001b[0m\u001b[37m\u001b[0m \u001b[1m1s\u001b[0m 2ms/step - accuracy: 0.5579 - loss: 1.1032 - val_accuracy: 0.5672 - val_loss: 1.0869 - learning_rate: 1.0000e-04\n",
            "Epoch 93/100\n",
            "\u001b[1m320/320\u001b[0m \u001b[32m━━━━━━━━━━━━━━━━━━━━\u001b[0m\u001b[37m\u001b[0m \u001b[1m1s\u001b[0m 3ms/step - accuracy: 0.5474 - loss: 1.1218 - val_accuracy: 0.5672 - val_loss: 1.0869 - learning_rate: 1.0000e-04\n",
            "Epoch 94/100\n",
            "\u001b[1m320/320\u001b[0m \u001b[32m━━━━━━━━━━━━━━━━━━━━\u001b[0m\u001b[37m\u001b[0m \u001b[1m2s\u001b[0m 4ms/step - accuracy: 0.5587 - loss: 1.0957 - val_accuracy: 0.5648 - val_loss: 1.0860 - learning_rate: 1.0000e-04\n",
            "Epoch 95/100\n",
            "\u001b[1m320/320\u001b[0m \u001b[32m━━━━━━━━━━━━━━━━━━━━\u001b[0m\u001b[37m\u001b[0m \u001b[1m1s\u001b[0m 3ms/step - accuracy: 0.5580 - loss: 1.1045 - val_accuracy: 0.5680 - val_loss: 1.0854 - learning_rate: 1.0000e-04\n"
          ]
        }
      ],
      "source": [
        "# Train the model\n",
        "history = model.fit(X_train, y_train, epochs=100, validation_data=(X_test, y_test), callbacks=callbacks)\n"
      ]
    },
    {
      "cell_type": "markdown",
      "metadata": {
        "id": "IB1aph0dMjdd"
      },
      "source": [
        "# **10: Evaluate Model**"
      ]
    },
    {
      "cell_type": "code",
      "execution_count": 14,
      "metadata": {
        "colab": {
          "base_uri": "https://localhost:8080/"
        },
        "id": "76oh7ItzMlNh",
        "outputId": "3e0ee4e6-3a85-406d-b3d0-724a92af72bd"
      },
      "outputs": [
        {
          "output_type": "stream",
          "name": "stdout",
          "text": [
            "\u001b[1m80/80\u001b[0m \u001b[32m━━━━━━━━━━━━━━━━━━━━\u001b[0m\u001b[37m\u001b[0m \u001b[1m0s\u001b[0m 2ms/step - accuracy: 0.5801 - loss: 1.0823\n",
            "Test Accuracy: 0.5667968988418579\n"
          ]
        }
      ],
      "source": [
        "# Evaluate model\n",
        "loss, accuracy = model.evaluate(X_test, y_test)\n",
        "print(f\"Test Accuracy: {accuracy}\")\n"
      ]
    },
    {
      "cell_type": "markdown",
      "metadata": {
        "id": "ZkT5m78MMnNS"
      },
      "source": [
        "# **11: Save Model**"
      ]
    },
    {
      "cell_type": "code",
      "execution_count": 15,
      "metadata": {
        "id": "gR5r6QKsMx90"
      },
      "outputs": [],
      "source": [
        "# Save model\n",
        "model.save('emotion_recognition_model.keras')\n"
      ]
    },
    {
      "cell_type": "markdown",
      "metadata": {
        "id": "tXI48qc4TD5L"
      },
      "source": [
        "# **12: Load and Test Model**"
      ]
    },
    {
      "cell_type": "code",
      "execution_count": 16,
      "metadata": {
        "colab": {
          "base_uri": "https://localhost:8080/"
        },
        "id": "anQ1cjDjTDW5",
        "outputId": "4c56f047-10da-4858-c365-f7ffb5098e7b"
      },
      "outputs": [
        {
          "output_type": "stream",
          "name": "stdout",
          "text": [
            "\u001b[1m1/1\u001b[0m \u001b[32m━━━━━━━━━━━━━━━━━━━━\u001b[0m\u001b[37m\u001b[0m \u001b[1m0s\u001b[0m 406ms/step\n",
            "The predicted emotion is: Angry\n"
          ]
        }
      ],
      "source": [
        "import os\n",
        "import numpy as np\n",
        "import librosa\n",
        "import tensorflow as tf\n",
        "\n",
        "# Load the saved model\n",
        "model = tf.keras.models.load_model('emotion_recognition_model.keras')\n",
        "\n",
        "# Function to load and preprocess a new audio file\n",
        "def preprocess_audio(file_path):\n",
        "    y, sr = librosa.load(file_path, sr=None)\n",
        "    mfccs = librosa.feature.mfcc(y=y, sr=sr, n_mfcc=13)\n",
        "    mfccs = np.mean(mfccs.T, axis=0)\n",
        "    return mfccs\n",
        "\n",
        "# Load and preprocess a new audio file\n",
        "file_path = '/content/Marriage_Story.mp3'  # Update with the path to your test audio file\n",
        "mfccs = preprocess_audio(file_path)\n",
        "\n",
        "# Reshape the data to fit the model input\n",
        "mfccs_reshaped = mfccs[np.newaxis, ..., np.newaxis]\n",
        "\n",
        "# Make a prediction\n",
        "predicted_label = model.predict(mfccs_reshaped)\n",
        "predicted_emotion = le.inverse_transform([np.argmax(predicted_label)])\n",
        "\n",
        "# Display the result\n",
        "print(f\"The predicted emotion is: {predicted_emotion[0]}\")\n"
      ]
    }
  ],
  "metadata": {
    "accelerator": "GPU",
    "colab": {
      "gpuType": "T4",
      "provenance": []
    },
    "kernelspec": {
      "display_name": "Python 3",
      "name": "python3"
    },
    "language_info": {
      "name": "python"
    }
  },
  "nbformat": 4,
  "nbformat_minor": 0
}
