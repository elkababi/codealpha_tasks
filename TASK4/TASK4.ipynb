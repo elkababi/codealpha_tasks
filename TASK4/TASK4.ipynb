{
  "nbformat": 4,
  "nbformat_minor": 0,
  "metadata": {
    "colab": {
      "provenance": []
    },
    "kernelspec": {
      "name": "python3",
      "display_name": "Python 3"
    },
    "language_info": {
      "name": "python"
    }
  },
  "cells": [
    {
      "cell_type": "markdown",
      "source": [
        "# **1. Import Libraries**"
      ],
      "metadata": {
        "id": "Ei0VLIYEWbEN"
      }
    },
    {
      "cell_type": "code",
      "source": [
        "import pandas as pd\n",
        "from sklearn.model_selection import train_test_split\n",
        "from sklearn.ensemble import RandomForestClassifier\n",
        "from sklearn.metrics import classification_report, accuracy_score\n",
        "from sklearn.preprocessing import LabelEncoder\n"
      ],
      "metadata": {
        "id": "vVZ_vjuDWbwa"
      },
      "execution_count": 1,
      "outputs": []
    },
    {
      "cell_type": "markdown",
      "source": [
        "# **2. Load the Data**"
      ],
      "metadata": {
        "id": "N4Q8zrkEWcEj"
      }
    },
    {
      "cell_type": "code",
      "source": [
        "# Load the training and testing data\n",
        "train_data = pd.read_csv('/content/Training.csv', sep=\",\")\n",
        "test_data = pd.read_csv('/content/Testing.csv', sep=\",\")\n"
      ],
      "metadata": {
        "id": "akxfcv8gWc8i"
      },
      "execution_count": 2,
      "outputs": []
    },
    {
      "cell_type": "markdown",
      "source": [
        "# **3. Explore the Data**"
      ],
      "metadata": {
        "id": "agfftaNwWdPB"
      }
    },
    {
      "cell_type": "code",
      "source": [
        "# Display the first few rows of the training data\n",
        "print(train_data.head())\n"
      ],
      "metadata": {
        "colab": {
          "base_uri": "https://localhost:8080/"
        },
        "id": "AeagiN9bWdtY",
        "outputId": "bc6b820c-a3b3-46f5-a2f7-8ca2da308ba4"
      },
      "execution_count": 3,
      "outputs": [
        {
          "output_type": "stream",
          "name": "stdout",
          "text": [
            "   itching  skin_rash  nodal_skin_eruptions  continuous_sneezing  shivering  \\\n",
            "0        1          1                     1                    0          0   \n",
            "1        0          1                     1                    0          0   \n",
            "2        1          0                     1                    0          0   \n",
            "3        1          1                     0                    0          0   \n",
            "4        1          1                     1                    0          0   \n",
            "\n",
            "   chills  joint_pain  stomach_pain  acidity  ulcers_on_tongue  ...  scurring  \\\n",
            "0       0           0             0        0                 0  ...         0   \n",
            "1       0           0             0        0                 0  ...         0   \n",
            "2       0           0             0        0                 0  ...         0   \n",
            "3       0           0             0        0                 0  ...         0   \n",
            "4       0           0             0        0                 0  ...         0   \n",
            "\n",
            "   skin_peeling  silver_like_dusting  small_dents_in_nails  \\\n",
            "0             0                    0                     0   \n",
            "1             0                    0                     0   \n",
            "2             0                    0                     0   \n",
            "3             0                    0                     0   \n",
            "4             0                    0                     0   \n",
            "\n",
            "   inflammatory_nails  blister  red_sore_around_nose  yellow_crust_ooze  \\\n",
            "0                   0        0                     0                  0   \n",
            "1                   0        0                     0                  0   \n",
            "2                   0        0                     0                  0   \n",
            "3                   0        0                     0                  0   \n",
            "4                   0        0                     0                  0   \n",
            "\n",
            "          prognosis  Unnamed: 133  \n",
            "0  Fungal infection           NaN  \n",
            "1  Fungal infection           NaN  \n",
            "2  Fungal infection           NaN  \n",
            "3  Fungal infection           NaN  \n",
            "4  Fungal infection           NaN  \n",
            "\n",
            "[5 rows x 134 columns]\n"
          ]
        }
      ]
    },
    {
      "cell_type": "markdown",
      "source": [
        "# **4. Data Cleaning**"
      ],
      "metadata": {
        "id": "L0HbBOZtWvac"
      }
    },
    {
      "cell_type": "code",
      "source": [
        "# Drop columns with NaN values\n",
        "train_data.dropna(axis=1, inplace=True)\n",
        "test_data.dropna(axis=1, inplace=True)\n"
      ],
      "metadata": {
        "id": "FAQNP-auWvuB"
      },
      "execution_count": 4,
      "outputs": []
    },
    {
      "cell_type": "markdown",
      "source": [
        "# **5. Prepare Features and Target Variable**"
      ],
      "metadata": {
        "id": "F-Yo1GeRWw92"
      }
    },
    {
      "cell_type": "code",
      "source": [
        "# Separate features and target variable in the training set\n",
        "X_train = train_data.drop('prognosis', axis=1)\n",
        "y_train = train_data['prognosis']\n",
        "\n",
        "# Encode the target variable if it's categorical\n",
        "label_encoder = LabelEncoder()\n",
        "y_train_encoded = label_encoder.fit_transform(y_train)\n"
      ],
      "metadata": {
        "id": "RsSPfRAdWxQ-"
      },
      "execution_count": 5,
      "outputs": []
    },
    {
      "cell_type": "markdown",
      "source": [
        "# **6. Train the Model**"
      ],
      "metadata": {
        "id": "K278OHN8W7ZA"
      }
    },
    {
      "cell_type": "code",
      "source": [
        "# Train the RandomForestClassifier model\n",
        "model = RandomForestClassifier(random_state=42)\n",
        "model.fit(X_train, y_train_encoded)\n"
      ],
      "metadata": {
        "colab": {
          "base_uri": "https://localhost:8080/",
          "height": 75
        },
        "id": "I-ZnMQv-W7sm",
        "outputId": "1d42da8a-e9e0-4f1f-a7a1-8c1dc09cc48a"
      },
      "execution_count": 6,
      "outputs": [
        {
          "output_type": "execute_result",
          "data": {
            "text/plain": [
              "RandomForestClassifier(random_state=42)"
            ],
            "text/html": [
              "<style>#sk-container-id-1 {color: black;}#sk-container-id-1 pre{padding: 0;}#sk-container-id-1 div.sk-toggleable {background-color: white;}#sk-container-id-1 label.sk-toggleable__label {cursor: pointer;display: block;width: 100%;margin-bottom: 0;padding: 0.3em;box-sizing: border-box;text-align: center;}#sk-container-id-1 label.sk-toggleable__label-arrow:before {content: \"▸\";float: left;margin-right: 0.25em;color: #696969;}#sk-container-id-1 label.sk-toggleable__label-arrow:hover:before {color: black;}#sk-container-id-1 div.sk-estimator:hover label.sk-toggleable__label-arrow:before {color: black;}#sk-container-id-1 div.sk-toggleable__content {max-height: 0;max-width: 0;overflow: hidden;text-align: left;background-color: #f0f8ff;}#sk-container-id-1 div.sk-toggleable__content pre {margin: 0.2em;color: black;border-radius: 0.25em;background-color: #f0f8ff;}#sk-container-id-1 input.sk-toggleable__control:checked~div.sk-toggleable__content {max-height: 200px;max-width: 100%;overflow: auto;}#sk-container-id-1 input.sk-toggleable__control:checked~label.sk-toggleable__label-arrow:before {content: \"▾\";}#sk-container-id-1 div.sk-estimator input.sk-toggleable__control:checked~label.sk-toggleable__label {background-color: #d4ebff;}#sk-container-id-1 div.sk-label input.sk-toggleable__control:checked~label.sk-toggleable__label {background-color: #d4ebff;}#sk-container-id-1 input.sk-hidden--visually {border: 0;clip: rect(1px 1px 1px 1px);clip: rect(1px, 1px, 1px, 1px);height: 1px;margin: -1px;overflow: hidden;padding: 0;position: absolute;width: 1px;}#sk-container-id-1 div.sk-estimator {font-family: monospace;background-color: #f0f8ff;border: 1px dotted black;border-radius: 0.25em;box-sizing: border-box;margin-bottom: 0.5em;}#sk-container-id-1 div.sk-estimator:hover {background-color: #d4ebff;}#sk-container-id-1 div.sk-parallel-item::after {content: \"\";width: 100%;border-bottom: 1px solid gray;flex-grow: 1;}#sk-container-id-1 div.sk-label:hover label.sk-toggleable__label {background-color: #d4ebff;}#sk-container-id-1 div.sk-serial::before {content: \"\";position: absolute;border-left: 1px solid gray;box-sizing: border-box;top: 0;bottom: 0;left: 50%;z-index: 0;}#sk-container-id-1 div.sk-serial {display: flex;flex-direction: column;align-items: center;background-color: white;padding-right: 0.2em;padding-left: 0.2em;position: relative;}#sk-container-id-1 div.sk-item {position: relative;z-index: 1;}#sk-container-id-1 div.sk-parallel {display: flex;align-items: stretch;justify-content: center;background-color: white;position: relative;}#sk-container-id-1 div.sk-item::before, #sk-container-id-1 div.sk-parallel-item::before {content: \"\";position: absolute;border-left: 1px solid gray;box-sizing: border-box;top: 0;bottom: 0;left: 50%;z-index: -1;}#sk-container-id-1 div.sk-parallel-item {display: flex;flex-direction: column;z-index: 1;position: relative;background-color: white;}#sk-container-id-1 div.sk-parallel-item:first-child::after {align-self: flex-end;width: 50%;}#sk-container-id-1 div.sk-parallel-item:last-child::after {align-self: flex-start;width: 50%;}#sk-container-id-1 div.sk-parallel-item:only-child::after {width: 0;}#sk-container-id-1 div.sk-dashed-wrapped {border: 1px dashed gray;margin: 0 0.4em 0.5em 0.4em;box-sizing: border-box;padding-bottom: 0.4em;background-color: white;}#sk-container-id-1 div.sk-label label {font-family: monospace;font-weight: bold;display: inline-block;line-height: 1.2em;}#sk-container-id-1 div.sk-label-container {text-align: center;}#sk-container-id-1 div.sk-container {/* jupyter's `normalize.less` sets `[hidden] { display: none; }` but bootstrap.min.css set `[hidden] { display: none !important; }` so we also need the `!important` here to be able to override the default hidden behavior on the sphinx rendered scikit-learn.org. See: https://github.com/scikit-learn/scikit-learn/issues/21755 */display: inline-block !important;position: relative;}#sk-container-id-1 div.sk-text-repr-fallback {display: none;}</style><div id=\"sk-container-id-1\" class=\"sk-top-container\"><div class=\"sk-text-repr-fallback\"><pre>RandomForestClassifier(random_state=42)</pre><b>In a Jupyter environment, please rerun this cell to show the HTML representation or trust the notebook. <br />On GitHub, the HTML representation is unable to render, please try loading this page with nbviewer.org.</b></div><div class=\"sk-container\" hidden><div class=\"sk-item\"><div class=\"sk-estimator sk-toggleable\"><input class=\"sk-toggleable__control sk-hidden--visually\" id=\"sk-estimator-id-1\" type=\"checkbox\" checked><label for=\"sk-estimator-id-1\" class=\"sk-toggleable__label sk-toggleable__label-arrow\">RandomForestClassifier</label><div class=\"sk-toggleable__content\"><pre>RandomForestClassifier(random_state=42)</pre></div></div></div></div></div>"
            ]
          },
          "metadata": {},
          "execution_count": 6
        }
      ]
    },
    {
      "cell_type": "markdown",
      "source": [
        "# **7. Prepare Testing Data**"
      ],
      "metadata": {
        "id": "REg6TtzHXAe3"
      }
    },
    {
      "cell_type": "code",
      "source": [
        "# Prepare the testing data\n",
        "X_test = test_data.drop('prognosis', axis=1)\n",
        "y_test = test_data['prognosis']\n",
        "y_test_encoded = label_encoder.transform(y_test)\n"
      ],
      "metadata": {
        "id": "4lsVVvItXBGS"
      },
      "execution_count": 7,
      "outputs": []
    },
    {
      "cell_type": "markdown",
      "source": [
        "# **8. Make Predictions and Evaluate the Model**"
      ],
      "metadata": {
        "id": "6cQ10JivXHSG"
      }
    },
    {
      "cell_type": "code",
      "source": [
        "# Make predictions\n",
        "y_pred = model.predict(X_test)\n",
        "\n",
        "# Evaluate the model\n",
        "print(classification_report(y_test_encoded, y_pred))\n",
        "print('Accuracy:', accuracy_score(y_test_encoded, y_pred))\n"
      ],
      "metadata": {
        "colab": {
          "base_uri": "https://localhost:8080/"
        },
        "id": "nyDEnmIhXHkf",
        "outputId": "7db404de-50f6-4115-9663-37d5f236b64d"
      },
      "execution_count": 8,
      "outputs": [
        {
          "output_type": "stream",
          "name": "stdout",
          "text": [
            "              precision    recall  f1-score   support\n",
            "\n",
            "           0       1.00      1.00      1.00         1\n",
            "           1       1.00      1.00      1.00         1\n",
            "           2       1.00      1.00      1.00         1\n",
            "           3       1.00      1.00      1.00         1\n",
            "           4       1.00      1.00      1.00         1\n",
            "           5       1.00      1.00      1.00         1\n",
            "           6       1.00      1.00      1.00         1\n",
            "           7       1.00      1.00      1.00         1\n",
            "           8       1.00      1.00      1.00         1\n",
            "           9       1.00      1.00      1.00         1\n",
            "          10       1.00      1.00      1.00         1\n",
            "          11       1.00      1.00      1.00         1\n",
            "          12       1.00      1.00      1.00         1\n",
            "          13       1.00      1.00      1.00         1\n",
            "          14       1.00      1.00      1.00         1\n",
            "          15       1.00      0.50      0.67         2\n",
            "          16       1.00      1.00      1.00         1\n",
            "          17       1.00      1.00      1.00         1\n",
            "          18       1.00      1.00      1.00         1\n",
            "          19       1.00      1.00      1.00         1\n",
            "          20       1.00      1.00      1.00         1\n",
            "          21       1.00      1.00      1.00         1\n",
            "          22       1.00      1.00      1.00         1\n",
            "          23       1.00      1.00      1.00         1\n",
            "          24       1.00      1.00      1.00         1\n",
            "          25       1.00      1.00      1.00         1\n",
            "          26       1.00      1.00      1.00         1\n",
            "          27       0.50      1.00      0.67         1\n",
            "          28       1.00      1.00      1.00         1\n",
            "          29       1.00      1.00      1.00         1\n",
            "          30       1.00      1.00      1.00         1\n",
            "          31       1.00      1.00      1.00         1\n",
            "          32       1.00      1.00      1.00         1\n",
            "          33       1.00      1.00      1.00         1\n",
            "          34       1.00      1.00      1.00         1\n",
            "          35       1.00      1.00      1.00         1\n",
            "          36       1.00      1.00      1.00         1\n",
            "          37       1.00      1.00      1.00         1\n",
            "          38       1.00      1.00      1.00         1\n",
            "          39       1.00      1.00      1.00         1\n",
            "          40       1.00      1.00      1.00         1\n",
            "\n",
            "    accuracy                           0.98        42\n",
            "   macro avg       0.99      0.99      0.98        42\n",
            "weighted avg       0.99      0.98      0.98        42\n",
            "\n",
            "Accuracy: 0.9761904761904762\n"
          ]
        }
      ]
    },
    {
      "cell_type": "markdown",
      "source": [
        "# **9. Save the Model**"
      ],
      "metadata": {
        "id": "1B740kfBbR81"
      }
    },
    {
      "cell_type": "code",
      "source": [
        "import joblib\n",
        "\n",
        "# Save the trained model to a file\n",
        "model_filename = 'random_forest_model.joblib'\n",
        "joblib.dump(model, model_filename)\n",
        "\n",
        "# Save the label encoder as well\n",
        "label_encoder_filename = 'label_encoder.joblib'\n",
        "joblib.dump(label_encoder, label_encoder_filename)\n"
      ],
      "metadata": {
        "colab": {
          "base_uri": "https://localhost:8080/"
        },
        "id": "ucV_X7JxbRt2",
        "outputId": "f8cb5bb5-4b75-4cb6-fdf9-8cd4db07d526"
      },
      "execution_count": 9,
      "outputs": [
        {
          "output_type": "execute_result",
          "data": {
            "text/plain": [
              "['label_encoder.joblib']"
            ]
          },
          "metadata": {},
          "execution_count": 9
        }
      ]
    },
    {
      "cell_type": "markdown",
      "source": [
        "# **10. Load and Test the Model with random symptoms**"
      ],
      "metadata": {
        "id": "9JOTWqVMcHdo"
      }
    },
    {
      "cell_type": "code",
      "source": [
        "import joblib\n",
        "import pandas as pd\n",
        "import numpy as np\n",
        "import random\n",
        "\n",
        "# Load the saved model and label encoder\n",
        "loaded_model = joblib.load('random_forest_model.joblib')\n",
        "loaded_label_encoder = joblib.load('label_encoder.joblib')\n",
        "\n",
        "# List all possible symptoms (features)\n",
        "all_symptoms = [\n",
        "    \"itching\", \"skin rash\", \"nodal skin eruptions\", \"continuous sneezing\", \"shivering\",\n",
        "    \"chills\", \"joint pain\", \"stomach pain\", \"acidity\", \"ulcers on tongue\",\n",
        "    \"muscle wasting\", \"vomiting\", \"burning micturition\", \"spotting urination\", \"fatigue\",\n",
        "    \"weight gain\", \"anxiety\", \"cold hands and feets\", \"mood swings\", \"weight loss\",\n",
        "    \"restlessness\", \"lethargy\", \"patches in throat\", \"irregular sugar level\", \"cough\",\n",
        "    \"high fever\", \"sunken eyes\", \"breathlessness\", \"sweating\", \"dehydration\",\n",
        "    \"indigestion\", \"headache\", \"yellowish skin\", \"dark urine\", \"nausea\",\n",
        "    \"loss of appetite\", \"pain behind the eyes\", \"back pain\", \"constipation\", \"abdominal pain\",\n",
        "    \"diarrhoea\", \"mild fever\", \"yellow urine\", \"yellowing of eyes\", \"acute liver failure\",\n",
        "    \"fluid overload\", \"swelling of stomach\", \"swelled lymph nodes\", \"malaise\", \"blurred and distorted vision\",\n",
        "    \"phlegm\", \"throat irritation\", \"redness of eyes\", \"sinus pressure\", \"runny nose\",\n",
        "    \"congestion\", \"chest pain\", \"weakness in limbs\", \"fast heart rate\", \"pain during bowel movements\",\n",
        "    \"pain in anal region\", \"bloody stool\", \"irritation in anus\", \"neck pain\", \"dizziness\",\n",
        "    \"cramps\", \"bruising\", \"obesity\", \"swollen legs\", \"swollen blood vessels\",\n",
        "    \"puffy face and eyes\", \"enlarged thyroid\", \"brittle nails\", \"swollen extremeties\", \"excessive hunger\",\n",
        "    \"extra marital contacts\", \"drying and tingling lips\", \"slurred speech\", \"knee pain\", \"hip joint pain\",\n",
        "    \"muscle weakness\", \"stiff neck\", \"swelling joints\", \"movement stiffness\", \"spinning movements\",\n",
        "    \"loss of balance\", \"unsteadiness\", \"weakness of one body side\", \"loss of smell\", \"bladder discomfort\",\n",
        "    \"foul smell of urine\", \"continuous feel of urine\", \"passage of gases\", \"internal itching\", \"toxic look (typhos)\",\n",
        "    \"depression\", \"irritability\", \"muscle pain\", \"altered sensorium\", \"red spots over body\",\n",
        "    \"belly pain\", \"abnormal menstruation\", \"dischromic patches\", \"watering from eyes\", \"increased appetite\",\n",
        "    \"polyuria\", \"family history\", \"mucoid sputum\", \"rusty sputum\", \"lack of concentration\",\n",
        "    \"visual disturbances\", \"receiving blood transfusion\", \"receiving unsterile injections\", \"coma\", \"stomach bleeding\",\n",
        "    \"distention of abdomen\", \"history of alcohol consumption\", \"fluid overload\", \"blood in sputum\", \"prominent veins on calf\",\n",
        "    \"palpitations\", \"painful walking\", \"pus filled pimples\", \"blackheads\", \"scurring\",\n",
        "    \"skin peeling\", \"silver like dusting\", \"small dents in nails\", \"inflammatory nails\", \"blister\",\n",
        "    \"red sore around nose\", \"yellow crust ooze\"\n",
        "]\n",
        "\n",
        "# Randomly select n symptoms from the list\n",
        "n = random.randint(5, len(all_symptoms))\n",
        "random_symptoms = random.sample(all_symptoms, n)\n",
        "\n",
        "# List all symptom columns (features)\n",
        "symptom_columns = X_train.columns\n",
        "\n",
        "# Create an input array with zeros\n",
        "input_symptoms = pd.DataFrame([0] * len(symptom_columns)).T\n",
        "input_symptoms.columns = symptom_columns\n",
        "\n",
        "# Set the corresponding symptom columns to 1 based on random selection\n",
        "for symptom in random_symptoms:\n",
        "    symptom = symptom.strip()\n",
        "    if symptom in input_symptoms.columns:\n",
        "        input_symptoms[symptom] = 1\n",
        "\n",
        "# Make a prediction\n",
        "predicted_prognosis_encoded = loaded_model.predict(input_symptoms)\n",
        "predicted_prognosis = loaded_label_encoder.inverse_transform(predicted_prognosis_encoded)\n",
        "\n",
        "# Display the randomly chosen symptoms and the prediction\n",
        "print(f\"Randomly Chosen Symptoms: {', '.join(random_symptoms)}\")\n",
        "print(f\"Predicted Disease: {predicted_prognosis[0]}\")\n"
      ],
      "metadata": {
        "colab": {
          "base_uri": "https://localhost:8080/"
        },
        "id": "z4D295sggP9m",
        "outputId": "b3e2f67a-973c-4913-d924-bcf02c64b35a"
      },
      "execution_count": 15,
      "outputs": [
        {
          "output_type": "stream",
          "name": "stdout",
          "text": [
            "Randomly Chosen Symptoms: muscle weakness, weight loss, obesity, increased appetite, prominent veins on calf, chills, inflammatory nails, drying and tingling lips, continuous feel of urine, yellowing of eyes, irregular sugar level, sunken eyes, loss of smell, high fever, swelling joints, vomiting, blackheads, stiff neck, pain behind the eyes, lack of concentration, dizziness\n",
            "Predicted Disease: Acne\n"
          ]
        }
      ]
    },
    {
      "cell_type": "markdown",
      "source": [
        "# **11. Load and Test the Model with User Input**"
      ],
      "metadata": {
        "id": "JGDJSMsh6EVH"
      }
    },
    {
      "cell_type": "code",
      "source": [
        "# Load the saved model and label encoder\n",
        "loaded_model = joblib.load(model_filename)\n",
        "loaded_label_encoder = joblib.load(label_encoder_filename)\n",
        "\n",
        "# List all symptom columns (features)\n",
        "symptom_columns = X_train.columns\n",
        "\n",
        "# Create an input array with zeros\n",
        "input_symptoms = pd.DataFrame([0] * len(symptom_columns)).T\n",
        "input_symptoms.columns = symptom_columns\n",
        "\n",
        "# Get symptoms from the user\n",
        "user_symptoms = input(\"Enter the symptoms separated by commas: \").split(',')\n",
        "\n",
        "# Set the corresponding symptom columns to 1 based on user input\n",
        "for symptom in user_symptoms:\n",
        "    symptom = symptom.strip()\n",
        "    if symptom in input_symptoms.columns:\n",
        "        input_symptoms[symptom] = 1\n",
        "\n",
        "# Make a prediction\n",
        "predicted_prognosis_encoded = loaded_model.predict(input_symptoms)\n",
        "predicted_prognosis = loaded_label_encoder.inverse_transform(predicted_prognosis_encoded)\n",
        "\n",
        "# Display the prediction\n",
        "print(f\"Predicted Disease: {predicted_prognosis[0]}\")\n"
      ],
      "metadata": {
        "colab": {
          "base_uri": "https://localhost:8080/"
        },
        "id": "gtaOAWl9cL6Y",
        "outputId": "b8b2d879-21a1-496f-9220-80f38c1bf9ea"
      },
      "execution_count": 11,
      "outputs": [
        {
          "output_type": "stream",
          "name": "stdout",
          "text": [
            "Enter the symptoms separated by commas: joint pain,stomach pain,acidity,ulcers on tongue,muscle wasting,vomiting,burning micturition,irregular sugar level,cough,high fever,sunken eyes,breathlessness,sweating,dehydration,indigestion\n",
            "Predicted Disease: Heart attack\n"
          ]
        }
      ]
    }
  ]
}